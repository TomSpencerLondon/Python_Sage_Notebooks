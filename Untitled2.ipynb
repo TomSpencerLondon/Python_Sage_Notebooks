{
 "cells": [
  {
   "cell_type": "code",
   "execution_count": 5,
   "metadata": {},
   "outputs": [
    {
     "ename": "SyntaxError",
     "evalue": "invalid syntax (<ipython-input-5-78f62e3b3255>, line 8)",
     "output_type": "error",
     "traceback": [
      "\u001b[0;36m  File \u001b[0;32m\"<ipython-input-5-78f62e3b3255>\"\u001b[0;36m, line \u001b[0;32m8\u001b[0m\n\u001b[0;31m    for i in range\u001b[0m\n\u001b[0m                  ^\u001b[0m\n\u001b[0;31mSyntaxError\u001b[0m\u001b[0;31m:\u001b[0m invalid syntax\n"
     ]
    }
   ],
   "source": [
    "def matrix_multiplication(A, B):\n",
    "    C = []\n",
    "    rowsA = len(A)\n",
    "    rowsB = len(B)\n",
    "    colsA = len(A[0])\n",
    "    colsB = len(B[0])\n",
    "\n",
    "    for i in range(rowsA):\n",
    "        rowC = []\n",
    "        for j in range(colsB):\n",
    "            rowC.append(dot_product(A[i], B[j]))\n",
    "    \n",
    "    \n",
    "def dot_product(u, v):\n",
    "    result = 0\n",
    "    if (len(u) == len(v)):\n",
    "        for i in range(len(u)):\n",
    "            result += u[i] * v[i]\n",
    "    return result"
   ]
  },
  {
   "cell_type": "code",
   "execution_count": 4,
   "metadata": {},
   "outputs": [
    {
     "name": "stdout",
     "output_type": "stream",
     "text": [
      "2\n"
     ]
    }
   ],
   "source": [
    "A = [\n",
    "    [1, 2],\n",
    "    [3, 7],\n",
    "    [5, 8],\n",
    "    [9, 4]\n",
    "]\n",
    "\n",
    "print(len(A[0]))"
   ]
  }
 ],
 "metadata": {
  "kernelspec": {
   "display_name": "Python 3",
   "language": "python",
   "name": "python3"
  },
  "language_info": {
   "codemirror_mode": {
    "name": "ipython",
    "version": 3
   },
   "file_extension": ".py",
   "mimetype": "text/x-python",
   "name": "python",
   "nbconvert_exporter": "python",
   "pygments_lexer": "ipython3",
   "version": "3.8.3"
  }
 },
 "nbformat": 4,
 "nbformat_minor": 4
}
