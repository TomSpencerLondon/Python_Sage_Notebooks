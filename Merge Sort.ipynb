{
 "cells": [
  {
   "cell_type": "code",
   "execution_count": 25,
   "metadata": {},
   "outputs": [],
   "source": [
    "def merge_sort(array):\n",
    "    if(len(array) == 1):\n",
    "        return array\n",
    "    else:\n",
    "        split = len(array) // 2\n",
    "        array1 = merge_sort(array[:split])\n",
    "        array2 = merge_sort(array[split:])\n",
    "        return merge(array1, array2)\n",
    "\n",
    "def merge(array1, array2):\n",
    "    i, j = 0, 0\n",
    "    merged_array = []\n",
    "    while(i < len(array1) and j < len(array2)):\n",
    "        if(array1[i] <= array2[j]):\n",
    "            merged_array.append(array1[i])\n",
    "            i += 1\n",
    "        else:\n",
    "            merged_array.append(array2[j])\n",
    "            j += 1\n",
    "    while(i < len(array1)):\n",
    "        merged_array.append(array1[i])\n",
    "        i += 1\n",
    "    while(j < len(array2)):\n",
    "        merged_array.append(array2[j])\n",
    "        j += 1\n",
    "    return merged_array\n"
   ]
  },
  {
   "cell_type": "code",
   "execution_count": 26,
   "metadata": {},
   "outputs": [
    {
     "name": "stdout",
     "output_type": "stream",
     "text": [
      "[1, 2, 2, 3, 5, 6]\n"
     ]
    }
   ],
   "source": [
    "print(merge_sort([3, 2, 5, 6, 1, 2]))"
   ]
  },
  {
   "cell_type": "code",
   "execution_count": 21,
   "metadata": {},
   "outputs": [],
   "source": [
    "def sort(array):\n",
    "    merge_sort(array, 0, len(array) - 1)\n",
    "\n",
    "def merge_sort(array, first, last):\n",
    "    if first < last:\n",
    "        middle = (first + last) // 2\n",
    "        merge_sort(array, first, middle)\n",
    "        merge_sort(array, middle+1, last)\n",
    "        merge(array, first, middle, last)\n",
    "\n",
    "def merge(array, first, middle, last):\n",
    "    left = array[first:middle]\n",
    "    right = array[middle:last+1]\n",
    "    left.append(9999999)\n",
    "    right.append(9999999)\n",
    "    i = j = 0\n",
    "    for k in range(first, last + 1):\n",
    "        if left[i] <= right[j]:\n",
    "            array[k] = left[i]\n",
    "        else:\n",
    "            array[k] = right[j]\n",
    "            j += 1"
   ]
  },
  {
   "cell_type": "code",
   "execution_count": 22,
   "metadata": {},
   "outputs": [],
   "source": [
    "sort([5, 3, 2, 6, 3, 7])"
   ]
  },
  {
   "cell_type": "code",
   "execution_count": null,
   "metadata": {},
   "outputs": [],
   "source": []
  }
 ],
 "metadata": {
  "kernelspec": {
   "display_name": "Python 3",
   "language": "python",
   "name": "python3"
  },
  "language_info": {
   "codemirror_mode": {
    "name": "ipython",
    "version": 3
   },
   "file_extension": ".py",
   "mimetype": "text/x-python",
   "name": "python",
   "nbconvert_exporter": "python",
   "pygments_lexer": "ipython3",
   "version": "3.8.3"
  }
 },
 "nbformat": 4,
 "nbformat_minor": 4
}
