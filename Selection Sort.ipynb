{
 "cells": [
  {
   "cell_type": "code",
   "execution_count": 6,
   "metadata": {},
   "outputs": [
    {
     "name": "stdout",
     "output_type": "stream",
     "text": [
      "[1, 3, 4, 5]\n"
     ]
    }
   ],
   "source": [
    "#Find the minimum in [a1 a2 a3 ... an]\n",
    "#swap that element with a1\n",
    "#Find the minimum in [a2 a3 ... an]\n",
    "#swap that with a2\n",
    "\n",
    "#4 5 3 1\n",
    "#1 5 3 4\n",
    "#1 3 5 4\n",
    "#1 3 4 5\n",
    "\n",
    "def selection_sort(array):\n",
    "    for i in range(len(array)):\n",
    "        Min = array[i]\n",
    "        for j in range(i,len(array)):\n",
    "            if(array[j]<Min):\n",
    "                Min = array[j]\n",
    "                indexOfMin = j\n",
    "        array[i], array[indexOfMin] = array[indexOfMin], array[i]\n",
    "    return array\n",
    "\n",
    "        \n",
    "array = [4,5,3,1]\n",
    "print(selection_sort(array))"
   ]
  },
  {
   "cell_type": "code",
   "execution_count": null,
   "metadata": {},
   "outputs": [],
   "source": []
  },
  {
   "cell_type": "code",
   "execution_count": null,
   "metadata": {},
   "outputs": [],
   "source": []
  }
 ],
 "metadata": {
  "kernelspec": {
   "display_name": "Python 3",
   "language": "python",
   "name": "python3"
  },
  "language_info": {
   "codemirror_mode": {
    "name": "ipython",
    "version": 3
   },
   "file_extension": ".py",
   "mimetype": "text/x-python",
   "name": "python",
   "nbconvert_exporter": "python",
   "pygments_lexer": "ipython3",
   "version": "3.8.3"
  }
 },
 "nbformat": 4,
 "nbformat_minor": 4
}
