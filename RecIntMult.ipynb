{
 "cells": [
  {
   "cell_type": "code",
   "execution_count": 76,
   "metadata": {},
   "outputs": [],
   "source": [
    "def karatsubaString(x, y):\n",
    "    if len(x) == 1 and len(y) == 1:\n",
    "        return int(x) * int(y)\n",
    "    if len(x) < len(y):\n",
    "        x = '0'*(len(y) - len(x))  + x  \n",
    "    elif len(x) > len(y):\n",
    "        y = '0'*(len(x) - len(y))  + y\n",
    "    \n",
    "    split = len(x) // 2\n",
    "    if len(x) % 2 != 0:\n",
    "        split += 1\n",
    "    \n",
    "    a, b = x[:split], x[split:]\n",
    "    c, d = y[:split], y[split:]\n",
    "    \n",
    "    mult1 = karatsubaString(a, c)\n",
    "    mult2 = karatsubaString(b, d)\n",
    "    mult3 = karatsubaString(a + b, c + d) - mult1 - mult2\n",
    "    \n",
    "    return (10**(len(x) if len(x) % 2 == 0 else (len(x) - 1)) * mult1) + 10**(split if len(x) % 2 == 0 else(split-1)) * combined + mult2"
   ]
  },
  {
   "cell_type": "code",
   "execution_count": null,
   "metadata": {},
   "outputs": [],
   "source": [
    "startingtime = datetime.datetime.now()\n",
    "karatsubaString('12', '12')\n",
    "endtime = datetime.datetime.now()\n",
    "print(endtime - startingtime)"
   ]
  },
  {
   "cell_type": "code",
   "execution_count": 9,
   "metadata": {},
   "outputs": [
    {
     "name": "stdout",
     "output_type": "stream",
     "text": [
      "7006652\n"
     ]
    }
   ],
   "source": [
    "def recIntMultString(x, y):\n",
    "    if len(x) == 1 and len(y) == 1:\n",
    "        return int(x) * int(y)\n",
    "    if len(x) < len(y):\n",
    "        x = '0'*(len(y) - len(x))  + x  \n",
    "    elif len(x) > len(y):\n",
    "        y = '0'*(len(x) - len(y))  + y\n",
    "    \n",
    "    split = len(x) // 2\n",
    "    if len(x) % 2 != 0:\n",
    "        split += 1\n",
    "    \n",
    "    a, b = x[:split], x[split:]\n",
    "    c, d = y[:split], y[split:]\n",
    "    \n",
    "    mult1 = recIntMultString(a, c)\n",
    "    mult2 = recIntMultString(b, d)\n",
    "    mult3 = recIntMultString(a, d)\n",
    "    mult4 = recIntMultString(b, c)\n",
    "    \n",
    "    return (10**(len(x) if len(x) % 2 == 0 else (len(x) - 1)) * mult1) + 10**(split if len(x) % 2 == 0 else(split-1)) * (mult3 + mult4) + mult2\n",
    "\n",
    "print(recIntMultString('1234', '5678'))"
   ]
  },
  {
   "cell_type": "code",
   "execution_count": 3,
   "metadata": {},
   "outputs": [
    {
     "name": "stdout",
     "output_type": "stream",
     "text": [
      "45\n"
     ]
    }
   ],
   "source": [
    "half_two = int(2345 % 10**(4/2))\n",
    "print(half_two)"
   ]
  },
  {
   "cell_type": "code",
   "execution_count": 5,
   "metadata": {},
   "outputs": [
    {
     "data": {
      "text/plain": [
       "45"
      ]
     },
     "execution_count": 5,
     "metadata": {},
     "output_type": "execute_result"
    }
   ],
   "source": [
    "2345 % 100"
   ]
  },
  {
   "cell_type": "code",
   "execution_count": null,
   "metadata": {},
   "outputs": [],
   "source": []
  },
  {
   "cell_type": "code",
   "execution_count": 21,
   "metadata": {},
   "outputs": [],
   "source": [
    "def length(num):\n",
    "    counter = 0\n",
    "    while(num > 1):\n",
    "        num = num / 10\n",
    "        counter += 1\n",
    "    return counter\n"
   ]
  },
  {
   "cell_type": "code",
   "execution_count": 68,
   "metadata": {},
   "outputs": [
    {
     "name": "stdout",
     "output_type": "stream",
     "text": [
      "1\n",
      "6\n"
     ]
    }
   ],
   "source": [
    "x = 6\n",
    "print(length(x))\n",
    "print(x)"
   ]
  },
  {
   "cell_type": "code",
   "execution_count": 20,
   "metadata": {},
   "outputs": [
    {
     "data": {
      "text/plain": [
       "4"
      ]
     },
     "execution_count": 20,
     "metadata": {},
     "output_type": "execute_result"
    }
   ],
   "source": [
    "length(1440)"
   ]
  },
  {
   "cell_type": "code",
   "execution_count": null,
   "metadata": {},
   "outputs": [],
   "source": [
    "def findIndexOfHalf(number):\n",
    "    closestPowerOfTwo = (int)(2**math.ceil(math.log(length(number), 2)))\n",
    "    return abs(length(number) - (int)(closestPowerOfTwo/2) - 1)\n"
   ]
  },
  {
   "cell_type": "code",
   "execution_count": 43,
   "metadata": {},
   "outputs": [],
   "source": [
    "import math\n",
    "def karatsuba(x, y):\n",
    "    if length(x) == 1 and length(y) == 1:\n",
    "        return x * y\n",
    "    else:\n",
    "        l = length(x)\n",
    "        x1, x2 = split(x)\n",
    "        y1, y2 = split(y)\n",
    "        mult1 = karatsuba(x1, y1)\n",
    "        mult2 = karatsuba(x2, y2)\n",
    "        combined = karatsuba(x1 + x2 , y1 + y2) - mult1 - mult2\n",
    "        return mult1 * 10**math.ceil(l) + combined * 10**math.ceil(l/2) + mult2\n",
    "\n",
    "def split(num):\n",
    "    l = length(num)\n",
    "    if(num<10):\n",
    "        return 0,num\n",
    "    half_two = int(num % 10**(int(math.ceil(l/2))))\n",
    "    half_one = int((num - half_two)/ 10**math.ceil(l/2))\n",
    "    return half_one, half_two\n",
    "\n",
    "def length(num):\n",
    "    counter = 0\n",
    "    if(num == 0):\n",
    "        return 1\n",
    "    while(num >= 1):\n",
    "        num = num / 10\n",
    "        counter += 1\n",
    "    return counter"
   ]
  },
  {
   "cell_type": "code",
   "execution_count": 37,
   "metadata": {},
   "outputs": [
    {
     "name": "stdout",
     "output_type": "stream",
     "text": [
      "423\n",
      "13\n"
     ]
    }
   ],
   "source": [
    "u=13423 % 10**(int(2.5)+1)\n",
    "\n",
    "v=int((13423 -u)/10**(math.ceil(5/2)))\n",
    "print(u)\n",
    "print(v)"
   ]
  },
  {
   "cell_type": "code",
   "execution_count": 45,
   "metadata": {},
   "outputs": [
    {
     "data": {
      "text/plain": [
       "6592652"
      ]
     },
     "execution_count": 45,
     "metadata": {},
     "output_type": "execute_result"
    }
   ],
   "source": [
    "karatsuba(1234, 5678)"
   ]
  },
  {
   "cell_type": "code",
   "execution_count": 72,
   "metadata": {},
   "outputs": [
    {
     "name": "stdout",
     "output_type": "stream",
     "text": [
      "0:00:00.004921\n"
     ]
    }
   ],
   "source": [
    "startingtime = datetime.datetime.now()\n",
    "karatsuba(1234123412341234123412341231234123412341234123412341234123441234, 1234121234123412341234123412341234123434123412341234123412341234)\n",
    "endtime = datetime.datetime.now()\n",
    "print(endtime - startingtime)"
   ]
  },
  {
   "cell_type": "code",
   "execution_count": 18,
   "metadata": {},
   "outputs": [],
   "source": [
    "def recIntMultFinal(x, y):\n",
    "    if length(x) == 1 and length(y) == 1:\n",
    "        return x * y\n",
    "    else:\n",
    "        l = length(x)\n",
    "        x1, x2 = split(x)\n",
    "        y1, y2 = split(y)\n",
    "        mult1 = recIntMultFinal(x1, y1)\n",
    "        mult2 = recIntMultFinal(x2, y2)\n",
    "        mult3 = recIntMultFinal(x1, y2)\n",
    "        mult4 = recIntMultFinal(x2, y1)\n",
    "        return mult1 * 10**l + (mult3 + mult4)*10**int(l/2) + mult2\n",
    "        \n",
    "    \n",
    "def split(num):\n",
    "    l = length(num)\n",
    "    half_two = int(num % 10**(l/2))\n",
    "    half_one = int((num - half_two)/ 10**(l/2))\n",
    "    return half_one, half_two\n",
    "\n",
    "def length(num):\n",
    "    counter = 0\n",
    "    if(num == 0):\n",
    "        return 1\n",
    "    while(num >= 1):\n",
    "        num = num / 10\n",
    "        counter += 1\n",
    "    return counter"
   ]
  },
  {
   "cell_type": "code",
   "execution_count": 45,
   "metadata": {},
   "outputs": [
    {
     "name": "stdout",
     "output_type": "stream",
     "text": [
      "0:00:00.010325\n"
     ]
    }
   ],
   "source": [
    "startingtime = datetime.datetime.now()\n",
    "recIntMultFinal(1222122212221222122212122212221222122212221222122212222212221222, 1221222122212221222212122212221222122212221222122212221222122222)\n",
    "endtime = datetime.datetime.now()\n",
    "print(endtime - startingtime)"
   ]
  },
  {
   "cell_type": "code",
   "execution_count": 19,
   "metadata": {},
   "outputs": [
    {
     "data": {
      "text/plain": [
       "7006652"
      ]
     },
     "execution_count": 19,
     "metadata": {},
     "output_type": "execute_result"
    }
   ],
   "source": [
    "recIntMultFinal(1234, 5678)"
   ]
  },
  {
   "cell_type": "code",
   "execution_count": 30,
   "metadata": {},
   "outputs": [
    {
     "data": {
      "text/plain": [
       "(1234, 5678)"
      ]
     },
     "execution_count": 30,
     "metadata": {},
     "output_type": "execute_result"
    }
   ],
   "source": [
    "split(12345678)"
   ]
  },
  {
   "cell_type": "code",
   "execution_count": 31,
   "metadata": {},
   "outputs": [
    {
     "data": {
      "text/plain": [
       "(39, 12)"
      ]
     },
     "execution_count": 31,
     "metadata": {},
     "output_type": "execute_result"
    }
   ],
   "source": [
    "split(12345)"
   ]
  },
  {
   "cell_type": "code",
   "execution_count": 5,
   "metadata": {},
   "outputs": [
    {
     "data": {
      "text/plain": [
       "7006652"
      ]
     },
     "execution_count": 5,
     "metadata": {},
     "output_type": "execute_result"
    }
   ],
   "source": [
    "recIntMultFinal(1234, 5678)"
   ]
  },
  {
   "cell_type": "code",
   "execution_count": 55,
   "metadata": {},
   "outputs": [],
   "source": [
    "def multiply(x, y):\n",
    "    if length(x) == 1 and length(y) == 1:\n",
    "        return x * y\n",
    "    else:\n",
    "        l = length(x)\n",
    "        x1, x2 = split(x)\n",
    "        y1, y2 = split(y)\n",
    "        mult1 = multiply(x1, y1)\n",
    "        mult2 = multiply(x2, y2)\n",
    "        mult3 = multiply(x1, y2)\n",
    "        mult4 = multiply(x2, y1)\n",
    "        return mult1 * pow(10, l) + (mult3 + mult4)* pow(10, int(l/2)) + mult2\n",
    "    \n",
    "def split(num):\n",
    "    l = length(num)\n",
    "    half_two = int(num % pow(10,(l/2)))\n",
    "    half_one = int((num - half_two)/ pow(10, (l/2)))\n",
    "    return half_one, half_two\n",
    "\n",
    "def length(num):\n",
    "    counter = 0\n",
    "    if(num == 0):\n",
    "        return 1\n",
    "    while(num >= 1):\n",
    "        num = num / 10\n",
    "        counter += 1\n",
    "    return counter"
   ]
  },
  {
   "cell_type": "code",
   "execution_count": 56,
   "metadata": {},
   "outputs": [
    {
     "data": {
      "text/plain": [
       "7006652"
      ]
     },
     "execution_count": 56,
     "metadata": {},
     "output_type": "execute_result"
    }
   ],
   "source": [
    "multiply(1234, 5678)"
   ]
  },
  {
   "cell_type": "code",
   "execution_count": 3,
   "metadata": {},
   "outputs": [
    {
     "data": {
      "text/plain": [
       "(12, 34)"
      ]
     },
     "execution_count": 3,
     "metadata": {},
     "output_type": "execute_result"
    }
   ],
   "source": [
    "split(1234)"
   ]
  },
  {
   "cell_type": "code",
   "execution_count": 4,
   "metadata": {},
   "outputs": [
    {
     "data": {
      "text/plain": [
       "(56, 78)"
      ]
     },
     "execution_count": 4,
     "metadata": {},
     "output_type": "execute_result"
    }
   ],
   "source": [
    "split(5678)"
   ]
  }
 ],
 "metadata": {
  "kernelspec": {
   "display_name": "Python 3",
   "language": "python",
   "name": "python3"
  },
  "language_info": {
   "codemirror_mode": {
    "name": "ipython",
    "version": 3
   },
   "file_extension": ".py",
   "mimetype": "text/x-python",
   "name": "python",
   "nbconvert_exporter": "python",
   "pygments_lexer": "ipython3",
   "version": "3.8.3"
  }
 },
 "nbformat": 4,
 "nbformat_minor": 4
}
