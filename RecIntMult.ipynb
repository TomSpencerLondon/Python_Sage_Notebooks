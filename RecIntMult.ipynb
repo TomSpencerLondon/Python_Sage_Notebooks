{
 "cells": [
  {
   "cell_type": "code",
   "execution_count": 9,
   "metadata": {},
   "outputs": [
    {
     "name": "stdout",
     "output_type": "stream",
     "text": [
      "7006652\n"
     ]
    }
   ],
   "source": [
    "def recIntMult(x, y):\n",
    "    if len(x) == 1 and len(y) == 1:\n",
    "        return int(x) * int(y)\n",
    "    if len(x) < len(y):\n",
    "        x = '0'*(len(y) - len(x))  + x  \n",
    "    elif len(x) > len(y):\n",
    "        y = '0'*(len(x) - len(y))  + y\n",
    "    \n",
    "    split = len(x) // 2\n",
    "    if len(x) % 2 != 0:\n",
    "        split += 1\n",
    "    \n",
    "    a, b = x[:split], x[split:]\n",
    "    c, d = y[:split], y[split:]\n",
    "    \n",
    "    return (10**(len(x) if len(x) % 2 == 0 else (len(x) - 1)) * recIntMult(a, c)) + 10**(split if len(x) % 2 == 0 else(split-1)) * (recIntMult(a, d) + recIntMult(b, c)) + recIntMult(b, d)\n",
    "\n",
    "print(recIntMult('1234', '5678'))"
   ]
  },
  {
   "cell_type": "code",
   "execution_count": 21,
   "metadata": {},
   "outputs": [],
   "source": [
    "def length(num):\n",
    "    counter = 0\n",
    "    while(num > 1):\n",
    "        num = num / 10\n",
    "        counter += 1\n",
    "    return counter\n"
   ]
  },
  {
   "cell_type": "code",
   "execution_count": 68,
   "metadata": {},
   "outputs": [
    {
     "name": "stdout",
     "output_type": "stream",
     "text": [
      "1\n",
      "6\n"
     ]
    }
   ],
   "source": [
    "x = 6\n",
    "print(length(x))\n",
    "print(x)"
   ]
  },
  {
   "cell_type": "code",
   "execution_count": 20,
   "metadata": {},
   "outputs": [
    {
     "data": {
      "text/plain": [
       "4"
      ]
     },
     "execution_count": 20,
     "metadata": {},
     "output_type": "execute_result"
    }
   ],
   "source": [
    "length(1440)"
   ]
  },
  {
   "cell_type": "code",
   "execution_count": null,
   "metadata": {},
   "outputs": [],
   "source": [
    "def findIndexOfHalf(number):\n",
    "    closestPowerOfTwo = (int)(2**math.ceil(math.log(length(number), 2)))\n",
    "    return abs(length(number) - (int)(closestPowerOfTwo/2) - 1)\n"
   ]
  },
  {
   "cell_type": "code",
   "execution_count": 78,
   "metadata": {},
   "outputs": [],
   "source": [
    "def recIntMultFinal(x, y):\n",
    "    if length(x) == 1 and length(y) == 1:\n",
    "        return x * y\n",
    "    else:\n",
    "        l = length(x)\n",
    "        x1, x2 = split(x)\n",
    "        y1, y2 = split(y)\n",
    "        mult1 = recIntMultFinal(x1, y1)\n",
    "        mult2 = recIntMultFinal(x2, y2)\n",
    "        combined = recIntMultFinal(x1 + x2 , y1 + y2) - mult1 - mult2\n",
    "        return mult1 * 10**l + combined*10**int(l/2) + mult2\n",
    "        \n",
    "    \n",
    "def split(num):\n",
    "    l = length(num)\n",
    "    half_two = int(num % 10**(l/2))\n",
    "    half_one = int((num - half_two)/ 10**(l/2))\n",
    "    return half_one, half_two\n",
    "\n",
    "def length(num):\n",
    "    counter = 0\n",
    "    if(num == 0):\n",
    "        return 1\n",
    "    while(num >= 1):\n",
    "        num = num / 10\n",
    "        counter += 1\n",
    "    return counter"
   ]
  },
  {
   "cell_type": "code",
   "execution_count": 80,
   "metadata": {},
   "outputs": [
    {
     "name": "stdout",
     "output_type": "stream",
     "text": [
      "2\n",
      "4\n",
      "6\n"
     ]
    },
    {
     "data": {
      "text/plain": [
       "264"
      ]
     },
     "execution_count": 80,
     "metadata": {},
     "output_type": "execute_result"
    }
   ],
   "source": [
    "recIntMultFinal(12, 22)"
   ]
  },
  {
   "cell_type": "code",
   "execution_count": 30,
   "metadata": {},
   "outputs": [
    {
     "data": {
      "text/plain": [
       "(1234, 5678)"
      ]
     },
     "execution_count": 30,
     "metadata": {},
     "output_type": "execute_result"
    }
   ],
   "source": [
    "split(12345678)"
   ]
  },
  {
   "cell_type": "code",
   "execution_count": 31,
   "metadata": {},
   "outputs": [
    {
     "data": {
      "text/plain": [
       "(39, 12)"
      ]
     },
     "execution_count": 31,
     "metadata": {},
     "output_type": "execute_result"
    }
   ],
   "source": [
    "split(12345)"
   ]
  }
 ],
 "metadata": {
  "kernelspec": {
   "display_name": "Python 3",
   "language": "python",
   "name": "python3"
  },
  "language_info": {
   "codemirror_mode": {
    "name": "ipython",
    "version": 3
   },
   "file_extension": ".py",
   "mimetype": "text/x-python",
   "name": "python",
   "nbconvert_exporter": "python",
   "pygments_lexer": "ipython3",
   "version": "3.8.3"
  }
 },
 "nbformat": 4,
 "nbformat_minor": 4
}
