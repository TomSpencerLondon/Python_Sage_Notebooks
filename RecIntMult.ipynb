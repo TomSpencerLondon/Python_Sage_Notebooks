{
 "cells": [
  {
   "cell_type": "code",
   "execution_count": 9,
   "metadata": {},
   "outputs": [
    {
     "name": "stdout",
     "output_type": "stream",
     "text": [
      "7006652\n"
     ]
    }
   ],
   "source": [
    "def recIntMult(x, y):\n",
    "    if len(x) == 1 and len(y) == 1:\n",
    "        return int(x) * int(y)\n",
    "    if len(x) < len(y):\n",
    "        x = '0'*(len(y) - len(x))  + x  \n",
    "    elif len(x) > len(y):\n",
    "        y = '0'*(len(x) - len(y))  + y\n",
    "    \n",
    "    split = len(x) // 2\n",
    "    if len(x) % 2 != 0:\n",
    "        split += 1\n",
    "    \n",
    "    a, b = x[:split], x[split:]\n",
    "    c, d = y[:split], y[split:]\n",
    "    \n",
    "    return (10**(len(x) if len(x) % 2 == 0 else (len(x) - 1)) * recIntMult(a, c)) + 10**(split if len(x) % 2 == 0 else(split-1)) * (recIntMult(a, d) + recIntMult(b, c)) + recIntMult(b, d)\n",
    "\n",
    "print(recIntMult('1234', '5678'))"
   ]
  },
  {
   "cell_type": "code",
   "execution_count": 4,
   "metadata": {},
   "outputs": [
    {
     "data": {
      "text/plain": [
       "''"
      ]
     },
     "execution_count": 4,
     "metadata": {},
     "output_type": "execute_result"
    }
   ],
   "source": []
  }
 ],
 "metadata": {
  "kernelspec": {
   "display_name": "Python 3",
   "language": "python",
   "name": "python3"
  },
  "language_info": {
   "codemirror_mode": {
    "name": "ipython",
    "version": 3
   },
   "file_extension": ".py",
   "mimetype": "text/x-python",
   "name": "python",
   "nbconvert_exporter": "python",
   "pygments_lexer": "ipython3",
   "version": "3.8.3"
  }
 },
 "nbformat": 4,
 "nbformat_minor": 4
}
