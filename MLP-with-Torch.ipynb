{
 "cells": [
  {
   "cell_type": "code",
   "execution_count": 100,
   "metadata": {},
   "outputs": [],
   "source": [
    "import torch\n",
    "import torchvision\n",
    "\n",
    "from torch import nn\n",
    "from torch import optim\n",
    "from torch.utils.data import random_split\n",
    "from torch.utils.data import DataLoader, Dataset\n",
    "\n",
    "import numpy as np\n",
    "import matplotlib.pyplot as plt"
   ]
  },
  {
   "cell_type": "code",
   "execution_count": 66,
   "metadata": {},
   "outputs": [
    {
     "data": {
      "text/plain": [
       "<torch._C.Generator at 0x7fb883107630>"
      ]
     },
     "execution_count": 66,
     "metadata": {},
     "output_type": "execute_result"
    }
   ],
   "source": [
    "torch.manual_seed(123)"
   ]
  },
  {
   "cell_type": "code",
   "execution_count": 67,
   "metadata": {},
   "outputs": [],
   "source": [
    "train_ds = torchvision.datasets.MNIST(\n",
    "        './files/', train=True, download=True, \n",
    "        transform=torchvision.transforms.Compose([\n",
    "            torchvision.transforms.ToTensor(),\n",
    "            torchvision.transforms.Normalize(\n",
    "                (0.1307,), (0.3081,) # mean & std of mnist data\n",
    "            )]))\n",
    "test_ds = torchvision.datasets.MNIST(\n",
    "        './files/', train=False, download=True, \n",
    "        transform=torchvision.transforms.Compose([\n",
    "            torchvision.transforms.ToTensor(),\n",
    "            torchvision.transforms.Normalize(\n",
    "                (0.1307,), (0.3081,) # mean & std of mnist data\n",
    "            )]))"
   ]
  },
  {
   "cell_type": "code",
   "execution_count": 68,
   "metadata": {},
   "outputs": [],
   "source": [
    "train_ds, valid_ds = random_split(train_ds, [55000, 5000])"
   ]
  },
  {
   "cell_type": "code",
   "execution_count": 83,
   "metadata": {},
   "outputs": [],
   "source": [
    "train_loader = DataLoader(train_ds, shuffle=True, batch_size=64)\n",
    "valid_loader = DataLoader(valid_ds, shuffle=True, batch_size=64)\n",
    "test_loader = DataLoader(test_ds, shuffle=True, batch_size=100)"
   ]
  },
  {
   "cell_type": "code",
   "execution_count": 71,
   "metadata": {},
   "outputs": [],
   "source": [
    "class Net(nn.Module):\n",
    "    def __init__(self, inp_size, hidden_size, out_size):\n",
    "        super().__init__()\n",
    "        self.l1 = nn.Linear(inp_size, hidden_size)\n",
    "        self.l2 = nn.ReLU()\n",
    "        self.l3 = nn.Linear(hidden_size, out_size)\n",
    "    \n",
    "    def forward(self, x):\n",
    "        x = self.l1(x).requires_grad_()\n",
    "        x = self.l2(x)\n",
    "        x = self.l3(x)\n",
    "        return x"
   ]
  },
  {
   "cell_type": "code",
   "execution_count": 72,
   "metadata": {},
   "outputs": [],
   "source": [
    "net = Net(784, 50, 10)\n",
    "optimizer = optim.SGD(net.parameters(), lr=0.01)\n",
    "loss_fn = nn.CrossEntropyLoss()"
   ]
  },
  {
   "cell_type": "code",
   "execution_count": 98,
   "metadata": {},
   "outputs": [],
   "source": [
    "def train(epochs):\n",
    "    for epoch in range(epochs):    \n",
    "        net.train() # set model to train mode\n",
    "        for xb, yb in train_loader:\n",
    "            yhat = net(xb.view(-1, 784,)) # forward prop the input through the network. Need to flatten array for MLP\n",
    "            loss = loss_fn(yhat, yb)\n",
    "            loss.backward() # backprop w.r.t \n",
    "            optimizer.step() # update params\n",
    "            optimizer.zero_grad() # reset grads\n",
    "            \n",
    "        net.eval() # switch to evaluation mode\n",
    "        with torch.no_grad():\n",
    "            tot_loss,tot_acc = 0.,0.\n",
    "            for xb,yb in valid_loader:\n",
    "                pred = net(xb.view(-1, 784))\n",
    "                tot_loss += loss_fn(pred, yb)\n",
    "                tot_acc += (torch.argmax(pred, dim=1)==yb).float().mean()\n",
    "            print(tot_loss, tot_acc)"
   ]
  },
  {
   "cell_type": "code",
   "execution_count": 99,
   "metadata": {},
   "outputs": [
    {
     "name": "stdout",
     "output_type": "stream",
     "text": [
      "tensor(10.9731) tensor(75.7031)\n",
      "tensor(10.4552) tensor(75.9375)\n",
      "tensor(10.3089) tensor(75.9062)\n",
      "tensor(9.9877) tensor(75.9219)\n",
      "tensor(9.7753) tensor(76.0469)\n",
      "tensor(9.5666) tensor(76.2969)\n",
      "tensor(9.1427) tensor(76.2188)\n",
      "tensor(9.7240) tensor(76.0469)\n",
      "tensor(8.8160) tensor(76.4375)\n",
      "tensor(8.6029) tensor(76.4531)\n"
     ]
    }
   ],
   "source": [
    "train(10)"
   ]
  },
  {
   "cell_type": "code",
   "execution_count": null,
   "metadata": {},
   "outputs": [],
   "source": []
  }
 ],
 "metadata": {
  "kernelspec": {
   "display_name": "Python 3",
   "language": "python",
   "name": "python3"
  },
  "language_info": {
   "codemirror_mode": {
    "name": "ipython",
    "version": 3
   },
   "file_extension": ".py",
   "mimetype": "text/x-python",
   "name": "python",
   "nbconvert_exporter": "python",
   "pygments_lexer": "ipython3",
   "version": "3.7.6"
  }
 },
 "nbformat": 4,
 "nbformat_minor": 4
}
