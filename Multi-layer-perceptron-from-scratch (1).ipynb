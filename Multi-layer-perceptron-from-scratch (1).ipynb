{
 "cells": [
  {
   "cell_type": "code",
   "execution_count": 41,
   "metadata": {},
   "outputs": [],
   "source": [
    "import numpy as np\n",
    "import sys"
   ]
  },
  {
   "cell_type": "code",
   "execution_count": 42,
   "metadata": {},
   "outputs": [],
   "source": [
    "np.random.seed(1)"
   ]
  },
  {
   "cell_type": "code",
   "execution_count": 43,
   "metadata": {},
   "outputs": [],
   "source": [
    "class Net(object):\n",
    "    \"\"\"Simple multi-layer perceptron classifier.\n",
    "    \n",
    "    Parameters\n",
    "    ----------\n",
    "    n_hidden : int\n",
    "        Number of hidden units.\n",
    "    l2 : float\n",
    "        Lambda value for L2-regularization.\n",
    "        No regularization if l2=0. (default)\n",
    "    epochs : int\n",
    "        Number of passes over the training set.\n",
    "    eta : float\n",
    "        Learning rate.\n",
    "    shuffle : bool\n",
    "        Shuffles training data every epoch\n",
    "        if True to prevent circles.\n",
    "    minibatch_size : int\n",
    "        Number of training samples per minibatch.\n",
    "    seed : int\n",
    "        Random seed for initializing weights and shuffling.\n",
    "    \n",
    "    Attributes\n",
    "    -----------\n",
    "    eval_ : dict\n",
    "        Dictionary collecting the cost, training accuracy,\n",
    "        and validation accuracy for each epoch during training.\n",
    "    \"\"\"\n",
    "    def __init__(self, n_hidden=30, l2=0., epochs=100, \n",
    "                 eta=0.001, shuffle=True, minibatch_size=1, seed=None):\n",
    "        self.random = np.random.RandomState(seed)\n",
    "        self.n_hidden = n_hidden\n",
    "        self.l2 = l2\n",
    "        self.epochs = epochs\n",
    "        self.eta = eta\n",
    "        self.shuffle = shuffle\n",
    "        self.minibatch_size = minibatch_size\n",
    "        \n",
    "    def _onehot(self, y, n_classes):\n",
    "        \"\"\"Encode labels into one-hot representation\n",
    "        \n",
    "        Parameters\n",
    "        ----------\n",
    "        y : array, shape = [n_samples]\n",
    "            Target values.\n",
    "        \n",
    "        Returns\n",
    "        -----------\n",
    "        onehot : array, shape = (n_samples, n_labels)\n",
    "        \"\"\"\n",
    "        onehot = np.zeros((n_classes, y.shape[0]))\n",
    "        for idx, val in enumerate(y.astype(int)):\n",
    "            onehot[val, idx] = 1.\n",
    "        return onehot.T\n",
    "    \n",
    "    def _sigmoid(self, z):\n",
    "        return 1. / (1. + np.exp(-np.clip(z, -250, 250)))\n",
    "    \n",
    "    def _forward(self, X):\n",
    "        \"\"\"Propogate through the network\"\"\"\n",
    "        z_h = X @ self.w_h + self.b_h # net input of hidden layer\n",
    "        a_h = self._sigmoid(z_h) # activation of hidden layer\n",
    "        z_out = a_h @ self.w_out + self.b_out # net input for out layer\n",
    "        a_out = self._sigmoid(z_out) # activation for out layer\n",
    "        \n",
    "        return z_h, a_h, z_out, a_out\n",
    "    \n",
    "    def _compute_cost(self, y_enc, output):\n",
    "        \"\"\"Compute cost function\n",
    "        \n",
    "        Parameters\n",
    "        ----------\n",
    "        y_enc : array\n",
    "            one-hot encoded class labels.\n",
    "        output : array\n",
    "            Activation of the output layer (forward propagation)\n",
    "        \n",
    "        Returns\n",
    "        ---------\n",
    "        cost : float\n",
    "            Regularized cost\n",
    "        \"\"\"\n",
    "        L2_term = (self.l2 * (np.sum(self.w_h**2.) + np.sum(self.w_out**2.)))\n",
    "        term1 = -y_enc * (np.log(output))\n",
    "        term2 = (1. - y_enc) * np.log(1. - output)\n",
    "        cost = np.sum(term1 - term2) + L2_term\n",
    "        return cost\n",
    "    \n",
    "    def predict(self, X):\n",
    "        \"\"\"Predict class labels\n",
    "        \n",
    "        Parameters\n",
    "        ----------\n",
    "        X : array, shape = [n_samples, n_features]\n",
    "            Input later with original features\n",
    "        \n",
    "        Returns\n",
    "        -------\n",
    "        y_pred : array, shape = [n_samples]\n",
    "            Predicted class labels.\n",
    "        \"\"\"\n",
    "        z_h, a_h, z_out, a_out = self._forward(X)\n",
    "        y_pred = np.argmax(z_out, axis=1)\n",
    "        return y_pred\n",
    "    \n",
    "    def fit(self, X_train, y_train, X_valid, y_valid):\n",
    "        \"\"\"Learn weights from training data\n",
    "        \n",
    "        Parameters\n",
    "        ----------\n",
    "        X_train : array, shape = [n_samples, n_features]\n",
    "            Input layer with original features.\n",
    "        y_train : array, shape = [n_samples]\n",
    "            Target class labels.\n",
    "        X_valid : array, shape = [n_samples, n_features]\n",
    "            Sample features for validation during training\n",
    "        y_valid : array, shape = [n_samples]\n",
    "            Sample labels for validation during training\n",
    "        \n",
    "        Returns\n",
    "        -------\n",
    "        self\n",
    "        \"\"\"\n",
    "        n_output = np.unique(y_train).shape[0] # yields no of class labels\n",
    "        n_features = X_train.shape[1]\n",
    "        \n",
    "        #########################\n",
    "        # WEIGHT INITIALIZATION #\n",
    "        #########################\n",
    "        \n",
    "        # weights for layer.input -> layer.hidden\n",
    "        self.b_h = np.zeros(self.n_hidden)\n",
    "        self.w_h = self.random.normal(loc=0.0, scale=0.1, size=(n_features, self.n_hidden)) # Use Gaussian random noise for init.\n",
    "        \n",
    "        # weights for layer.hidden -> layer.output\n",
    "        self.b_out = np.zeros(n_output)\n",
    "        self.w_out = self.random.normal(loc=0.0, scale=0.1, size=(self.n_hidden, n_output))\n",
    "        \n",
    "        epoch_strlen = len(str(self.epochs))\n",
    "        self.eval_ = {'cost': [], 'train_acc': [], 'valid_acc': []}\n",
    "        \n",
    "        y_train_enc = self._onehot(y_train, n_output)\n",
    "        \n",
    "        # iterate over training epochs\n",
    "        for i in range(self.epochs):\n",
    "            indices = np.arange(X_train.shape[0])\n",
    "            \n",
    "            if self.shuffle: self.random.shuffle(indices)\n",
    "            \n",
    "            for start_idx in range(0, indices.shape[0] - self.minibatch_size + 1, self.minibatch_size):\n",
    "                batch_idx = indices[start_idx:start_idx + self.minibatch_size]\n",
    "                z_h, a_h, z_out, a_out = self._forward(X_train[batch_idx])\n",
    "                \n",
    "                ###################\n",
    "                # Backpropagation #\n",
    "                ###################\n",
    "                \n",
    "                # n_samples, n_classlabels\n",
    "                sigma_out = a_out - y_train_enc[batch_idx]\n",
    "                \n",
    "                # n_samples, n_hidden\n",
    "                sigmoid_derivative_h = a_h * (1. - a_h)\n",
    "                \n",
    "                # [n_samples, n_classlabels] dot [n_classlabels, n_hidden] -> [n_samples, n_hidden]\n",
    "                sigma_h = sigma_out @ self.w_out.T\n",
    "                \n",
    "                grad_w_h = X_train[batch_idx].T @ sigma_h\n",
    "                grad_b_h = np.sum(sigma_h, axis=0)\n",
    "                \n",
    "                grad_w_out = a_h.T @ sigma_out\n",
    "                grad_b_out = np.sum(sigma_out, axis=0)\n",
    "                \n",
    "                # now, update weights by SGD\n",
    "                delta_w_h = grad_w_h + self.l2*self.w_h\n",
    "                delta_b_h = grad_b_h\n",
    "                self.w_h -= self.eta * delta_w_h\n",
    "                self.b_h -= self.eta * delta_b_h\n",
    "                \n",
    "                delta_w_out = grad_w_out + self.l2*self.w_out\n",
    "                delta_b_out = grad_b_out\n",
    "                self.w_out -= self.eta * delta_w_out\n",
    "                self.b_out -= self.eta * delta_b_out\n",
    "                \n",
    "            ##############\n",
    "            # Evaluation #\n",
    "            ##############\n",
    "            \n",
    "            z_h, a_h, z_out, a_out = self._forward(X_train)\n",
    "            \n",
    "            cost = self._compute_cost(y_enc=y_train_enc, output=a_out)\n",
    "            \n",
    "            y_train_pred = self.predict(X_train)\n",
    "            y_valid_pred = self.predict(X_valid)\n",
    "            \n",
    "            train_acc = ((np.sum(y_train == y_train_pred)).astype(np.float) / X_train.shape[0])\n",
    "            valid_acc = ((np.sum(y_valid == y_valid_pred)).astype(np.float) / X_valid.shape[0])\n",
    "            \n",
    "            print('\\r%0*d/%d | Cost : %.2f | Train/Valid Acc. : %.2f%%/%.2f%%' % \n",
    "                  (epoch_strlen, i+1, self.epochs, cost, train_acc*100, valid_acc*100))\n",
    "            \n",
    "            self.eval_['cost'].append(cost)\n",
    "            self.eval_['train_acc'].append(train_acc)\n",
    "            self.eval_['valid_acc'].append(valid_acc)\n",
    "            \n",
    "        return self"
   ]
  },
  {
   "cell_type": "code",
   "execution_count": 44,
   "metadata": {},
   "outputs": [],
   "source": [
    "import tensorflow as tf"
   ]
  },
  {
   "cell_type": "code",
   "execution_count": 45,
   "metadata": {},
   "outputs": [],
   "source": [
    "(x_train, y_train), (x_test, y_test) = tf.keras.datasets.mnist.load_data()"
   ]
  },
  {
   "cell_type": "code",
   "execution_count": 46,
   "metadata": {},
   "outputs": [],
   "source": [
    "import matplotlib.pyplot as plt\n",
    "import numpy as np\n",
    "from PIL import Image"
   ]
  },
  {
   "cell_type": "code",
   "execution_count": 47,
   "metadata": {
    "scrolled": true
   },
   "outputs": [
    {
     "data": {
      "text/plain": [
       "Text(0.5, 1.0, '5')"
      ]
     },
     "execution_count": 47,
     "metadata": {},
     "output_type": "execute_result"
    },
    {
     "data": {
      "image/png": "[encoded data removed]",
      "text/plain": [
       "<Figure size 432x288 with 1 Axes>"
      ]
     },
     "metadata": {
      "needs_background": "light"
     },
     "output_type": "display_data"
    }
   ],
   "source": [
    "plt.imshow(x_train[0], cmap='gray')\n",
    "plt.title(y_train[0])"
   ]
  },
  {
   "cell_type": "code",
   "execution_count": 48,
   "metadata": {},
   "outputs": [],
   "source": [
    "net = Net(epochs=50, minibatch_size=5)"
   ]
  },
  {
   "cell_type": "code",
   "execution_count": 49,
   "metadata": {},
   "outputs": [],
   "source": [
    "x_valid = x_train[55000:]\n",
    "y_valid = y_train[55000:]"
   ]
  },
  {
   "cell_type": "code",
   "execution_count": 50,
   "metadata": {},
   "outputs": [],
   "source": [
    "x_train = x_train[:55000]\n",
    "y_train = y_train[:55000]"
   ]
  },
  {
   "cell_type": "code",
   "execution_count": 51,
   "metadata": {},
   "outputs": [],
   "source": [
    "x_train = x_train.reshape(55000, -1)\n",
    "x_valid = x_valid.reshape(5000, -1)"
   ]
  },
  {
   "cell_type": "code",
   "execution_count": 52,
   "metadata": {},
   "outputs": [
    {
     "data": {
      "text/plain": [
       "((55000, 784), (5000, 784))"
      ]
     },
     "execution_count": 52,
     "metadata": {},
     "output_type": "execute_result"
    }
   ],
   "source": [
    "x_train.shape, x_valid.shape"
   ]
  },
  {
   "cell_type": "code",
   "execution_count": 85,
   "metadata": {},
   "outputs": [
    {
     "name": "stdout",
     "output_type": "stream",
     "text": [
      "mean=2.387502687820255e-17, std=0.9999999999999993\n"
     ]
    }
   ],
   "source": [
    "avg = x_train.mean()\n",
    "std = x_train.std()\n",
    "print(\"mean={}, std={}\".format(avg, std)) #### Most IMPORTANT part is that we have mu=0 and rho=1"
   ]
  },
  {
   "cell_type": "code",
   "execution_count": 54,
   "metadata": {},
   "outputs": [],
   "source": [
    "def normalize(x, avg):\n",
    "    return (x - avg)/x.std()"
   ]
  },
  {
   "cell_type": "code",
   "execution_count": 55,
   "metadata": {},
   "outputs": [],
   "source": [
    "x_train = normalize(x_train, avg)"
   ]
  },
  {
   "cell_type": "code",
   "execution_count": 56,
   "metadata": {},
   "outputs": [],
   "source": [
    "x_valid = normalize(x_valid, avg)"
   ]
  },
  {
   "cell_type": "code",
   "execution_count": 57,
   "metadata": {},
   "outputs": [
    {
     "name": "stdout",
     "output_type": "stream",
     "text": [
      "01/50 | Cost : 69101.46 | Train/Valid Acc. : 81.29%/85.50%\n",
      "02/50 | Cost : 56535.11 | Train/Valid Acc. : 84.72%/88.48%\n",
      "03/50 | Cost : 51599.30 | Train/Valid Acc. : 85.42%/89.14%\n",
      "04/50 | Cost : 48726.35 | Train/Valid Acc. : 86.30%/89.46%\n",
      "05/50 | Cost : 47165.35 | Train/Valid Acc. : 86.46%/89.88%\n",
      "06/50 | Cost : 46067.10 | Train/Valid Acc. : 86.76%/89.86%\n",
      "07/50 | Cost : 45368.43 | Train/Valid Acc. : 86.92%/90.38%\n",
      "08/50 | Cost : 44496.06 | Train/Valid Acc. : 87.28%/90.38%\n",
      "09/50 | Cost : 43826.59 | Train/Valid Acc. : 87.49%/90.46%\n",
      "10/50 | Cost : 43112.26 | Train/Valid Acc. : 87.62%/90.56%\n",
      "11/50 | Cost : 42700.30 | Train/Valid Acc. : 87.70%/90.88%\n",
      "12/50 | Cost : 42212.46 | Train/Valid Acc. : 87.78%/90.94%\n",
      "13/50 | Cost : 41810.86 | Train/Valid Acc. : 87.90%/91.08%\n",
      "14/50 | Cost : 41494.13 | Train/Valid Acc. : 88.07%/91.04%\n",
      "15/50 | Cost : 41302.82 | Train/Valid Acc. : 88.13%/90.98%\n",
      "16/50 | Cost : 40953.35 | Train/Valid Acc. : 88.19%/91.06%\n",
      "17/50 | Cost : 40768.41 | Train/Valid Acc. : 88.25%/90.92%\n",
      "18/50 | Cost : 40545.27 | Train/Valid Acc. : 88.34%/90.92%\n",
      "19/50 | Cost : 40266.04 | Train/Valid Acc. : 88.39%/90.80%\n",
      "20/50 | Cost : 40128.62 | Train/Valid Acc. : 88.29%/90.62%\n",
      "21/50 | Cost : 40005.55 | Train/Valid Acc. : 88.37%/90.54%\n",
      "22/50 | Cost : 39786.79 | Train/Valid Acc. : 88.45%/90.74%\n",
      "23/50 | Cost : 39598.00 | Train/Valid Acc. : 88.50%/90.76%\n",
      "24/50 | Cost : 39543.14 | Train/Valid Acc. : 88.38%/90.72%\n",
      "25/50 | Cost : 39445.23 | Train/Valid Acc. : 88.41%/90.70%\n",
      "26/50 | Cost : 39234.84 | Train/Valid Acc. : 88.49%/90.80%\n",
      "27/50 | Cost : 39312.89 | Train/Valid Acc. : 88.38%/90.82%\n",
      "28/50 | Cost : 39145.17 | Train/Valid Acc. : 88.52%/90.80%\n",
      "29/50 | Cost : 39004.98 | Train/Valid Acc. : 88.50%/90.78%\n",
      "30/50 | Cost : 38828.47 | Train/Valid Acc. : 88.62%/90.82%\n",
      "31/50 | Cost : 38811.58 | Train/Valid Acc. : 88.56%/90.82%\n",
      "32/50 | Cost : 38701.52 | Train/Valid Acc. : 88.61%/90.94%\n",
      "33/50 | Cost : 38573.19 | Train/Valid Acc. : 88.63%/90.76%\n",
      "34/50 | Cost : 38560.19 | Train/Valid Acc. : 88.65%/91.00%\n",
      "35/50 | Cost : 38516.47 | Train/Valid Acc. : 88.65%/91.04%\n",
      "36/50 | Cost : 38485.39 | Train/Valid Acc. : 88.62%/90.88%\n",
      "37/50 | Cost : 38417.32 | Train/Valid Acc. : 88.65%/90.84%\n",
      "38/50 | Cost : 38377.31 | Train/Valid Acc. : 88.62%/90.78%\n",
      "39/50 | Cost : 38284.45 | Train/Valid Acc. : 88.70%/90.78%\n",
      "40/50 | Cost : 38265.68 | Train/Valid Acc. : 88.72%/90.78%\n",
      "41/50 | Cost : 38315.43 | Train/Valid Acc. : 88.67%/90.80%\n",
      "42/50 | Cost : 38206.26 | Train/Valid Acc. : 88.75%/90.68%\n",
      "43/50 | Cost : 38183.64 | Train/Valid Acc. : 88.68%/90.84%\n",
      "44/50 | Cost : 38253.25 | Train/Valid Acc. : 88.71%/90.64%\n",
      "45/50 | Cost : 38071.94 | Train/Valid Acc. : 88.82%/90.86%\n",
      "46/50 | Cost : 37995.26 | Train/Valid Acc. : 88.82%/90.90%\n",
      "47/50 | Cost : 37976.27 | Train/Valid Acc. : 88.87%/91.00%\n",
      "48/50 | Cost : 38044.28 | Train/Valid Acc. : 88.85%/90.92%\n",
      "49/50 | Cost : 37945.46 | Train/Valid Acc. : 88.87%/90.92%\n",
      "50/50 | Cost : 38001.27 | Train/Valid Acc. : 88.87%/90.88%\n"
     ]
    },
    {
     "data": {
      "text/plain": [
       "<__main__.Net at 0x7fb18cc2f810>"
      ]
     },
     "execution_count": 57,
     "metadata": {},
     "output_type": "execute_result"
    }
   ],
   "source": [
    "net.fit(x_train, y_train, x_valid, y_valid)"
   ]
  },
  {
   "cell_type": "code",
   "execution_count": 58,
   "metadata": {},
   "outputs": [
    {
     "data": {
      "text/plain": [
       "array([7])"
      ]
     },
     "execution_count": 58,
     "metadata": {},
     "output_type": "execute_result"
    }
   ],
   "source": [
    "net.predict(x_test[0].reshape(1,784)) "
   ]
  },
  {
   "cell_type": "code",
   "execution_count": 59,
   "metadata": {},
   "outputs": [],
   "source": [
    "def show_and_predict(xb):\n",
    "    \"\"\"Get a random batch of 9 samples and plot them in 3x3 grid\"\"\"\n",
    "    fig = plt.figure(figsize=(10,10))\n",
    "#    plt.subplots_adjust(hspace=1)\n",
    "    for i in range(9):\n",
    "        n = np.random.randint(xb.shape[0])\n",
    "        yhat = net.predict(normalize(xb[n], avg).reshape(1,784))\n",
    "        ax = fig.add_subplot(3,3,i+1)\n",
    "        ax.imshow(xb[n], cmap='gray')\n",
    "        ax.set_title(\n",
    "            'Pred:%s \\nAct: %s' % (int(yhat), y_test[n]), \n",
    "            fontdict={'fontsize': 11})\n",
    "        ax.set_axis_off()"
   ]
  },
  {
   "cell_type": "code",
   "execution_count": 60,
   "metadata": {},
   "outputs": [
    {
     "data": {
      "image/png": "[encoded data removed]",
      "text/plain": [
       "<Figure size 720x720 with 9 Axes>"
      ]
     },
     "metadata": {
      "needs_background": "light"
     },
     "output_type": "display_data"
    }
   ],
   "source": [
    "show_and_predict(x_test)"
   ]
  },
  {
   "cell_type": "code",
   "execution_count": 61,
   "metadata": {},
   "outputs": [
    {
     "data": {
      "text/plain": [
       "[0.8129090909090909,\n",
       " 0.8472,\n",
       " 0.8542181818181818,\n",
       " 0.8629636363636364,\n",
       " 0.8646,\n",
       " 0.8675636363636363,\n",
       " 0.8692,\n",
       " 0.8727636363636364,\n",
       " 0.874890909090909,\n",
       " 0.8761818181818182,\n",
       " 0.8770181818181818,\n",
       " 0.8778181818181818,\n",
       " 0.8790181818181818,\n",
       " 0.8806909090909091,\n",
       " 0.8812909090909091,\n",
       " 0.8819272727272728,\n",
       " 0.8824545454545455,\n",
       " 0.8833636363636364,\n",
       " 0.8839454545454546,\n",
       " 0.8828727272727273,\n",
       " 0.8837272727272727,\n",
       " 0.8845090909090909,\n",
       " 0.8849818181818182,\n",
       " 0.8838,\n",
       " 0.8841272727272728,\n",
       " 0.8849454545454546,\n",
       " 0.8837636363636364,\n",
       " 0.8852,\n",
       " 0.8849636363636364,\n",
       " 0.8862363636363636,\n",
       " 0.8856363636363637,\n",
       " 0.886109090909091,\n",
       " 0.8863454545454545,\n",
       " 0.8864909090909091,\n",
       " 0.8864727272727273,\n",
       " 0.8862363636363636,\n",
       " 0.8864545454545455,\n",
       " 0.8861636363636364,\n",
       " 0.887,\n",
       " 0.8872363636363636,\n",
       " 0.8866909090909091,\n",
       " 0.8874909090909091,\n",
       " 0.8868363636363636,\n",
       " 0.887109090909091,\n",
       " 0.8881636363636364,\n",
       " 0.8882,\n",
       " 0.8887272727272727,\n",
       " 0.8885454545454545,\n",
       " 0.8886727272727273,\n",
       " 0.8887272727272727]"
      ]
     },
     "execution_count": 61,
     "metadata": {},
     "output_type": "execute_result"
    }
   ],
   "source": [
    "net.eval_['cost']\n",
    "net.eval_['train_acc']"
   ]
  },
  {
   "cell_type": "code",
   "execution_count": 62,
   "metadata": {},
   "outputs": [],
   "source": [
    "plt.imshow??"
   ]
  },
  {
   "cell_type": "code",
   "execution_count": 63,
   "metadata": {},
   "outputs": [
    {
     "name": "stdout",
     "output_type": "stream",
     "text": [
      "Variable           Type        Data/Info\n",
      "----------------------------------------\n",
      "Image              module      <module 'PIL.Image' from <...>e-packages/PIL/Image.py'>\n",
      "Net                type        <class '__main__.Net'>\n",
      "NeuralNetMLP       type        <class '__main__.NeuralNetMLP'>\n",
      "avg                float64     33.332771405380335\n",
      "net                Net         <__main__.Net object at 0x7fb18cc2f810>\n",
      "normalize          function    <function normalize at 0x7fb18cc2e7a0>\n",
      "np                 module      <module 'numpy' from '/Us<...>kages/numpy/__init__.py'>\n",
      "plt                module      <module 'matplotlib.pyplo<...>es/matplotlib/pyplot.py'>\n",
      "show_and_predict   function    <function show_and_predict at 0x7fb18cc2e560>\n",
      "sys                module      <module 'sys' (built-in)>\n",
      "tf                 module      <module 'tensorflow' from<...>/tensorflow/__init__.py'>\n",
      "x_test             ndarray     10000x28x28: 7840000 elems, type `uint8`, 7840000 bytes (7.476806640625 Mb)\n",
      "x_train            ndarray     55000x784: 43120000 elems, type `float64`, 344960000 bytes (328.9794921875 Mb)\n",
      "x_valid            ndarray     5000x784: 3920000 elems, type `float64`, 31360000 bytes (29.9072265625 Mb)\n",
      "y_test             ndarray     10000: 10000 elems, type `uint8`, 10000 bytes\n",
      "y_train            ndarray     55000: 55000 elems, type `uint8`, 55000 bytes\n",
      "y_valid            ndarray     5000: 5000 elems, type `uint8`, 5000 bytes\n"
     ]
    }
   ],
   "source": [
    "%whos"
   ]
  },
  {
   "cell_type": "code",
   "execution_count": 64,
   "metadata": {},
   "outputs": [],
   "source": [
    "#inc_index = []\n",
    "#for i in range(x_test.shape[0]):\n",
    "#    x_hat = net.predict(normalize(x_test[i], avg).reshape(1,784))\n",
    "#    if x_hat != y_test[i]: inc_index.append(i)"
   ]
  },
  {
   "cell_type": "code",
   "execution_count": 68,
   "metadata": {},
   "outputs": [],
   "source": [
    "#def pred_err(xb, yb):\n",
    "#    \"\"\"Get a batch of 9 select samples with errors and plot them in 3x3 grid\"\"\"\n",
    "#    fig = plt.figure(figsize=(10,10))\n",
    "#    plt.subplots_adjust(hspace=1)\n",
    "#    for i in range(9):\n",
    "#        yhat = net.predict(normalize(xb[i], avg).reshape(1,784))\n",
    "#        ax = fig.add_subplot(3,3,i+1)\n",
    "#        ax.imshow(xb[i], cmap='gray')\n",
    "#        ax.set_title(\n",
    "#            'Pred:%s \\nAct: %s' % (int(yhat), yb[i]), \n",
    "#            fontdict={'fontsize': 11})\n",
    "#        ax.set_axis_off()"
   ]
  },
  {
   "cell_type": "code",
   "execution_count": 66,
   "metadata": {},
   "outputs": [],
   "source": [
    "#b1 = inc_index[:10]"
   ]
  },
  {
   "cell_type": "code",
   "execution_count": 69,
   "metadata": {},
   "outputs": [],
   "source": [
    "#pred_err(x_test[b1], y_test[b1])"
   ]
  },
  {
   "cell_type": "code",
   "execution_count": null,
   "metadata": {},
   "outputs": [],
   "source": []
  }
 ],
 "metadata": {
  "kernelspec": {
   "display_name": "Python 3",
   "language": "python",
   "name": "python3"
  },
  "language_info": {
   "codemirror_mode": {
    "name": "ipython",
    "version": 3
   },
   "file_extension": ".py",
   "mimetype": "text/x-python",
   "name": "python",
   "nbconvert_exporter": "python",
   "pygments_lexer": "ipython3",
   "version": "3.7.6"
  }
 },
 "nbformat": 4,
 "nbformat_minor": 4
}
