{
 "cells": [
  {
   "cell_type": "code",
   "execution_count": 9,
   "metadata": {},
   "outputs": [],
   "source": [
    "from typing import TypeVar, Generic, List\n",
    "T = TypeVar('T')\n",
    "\n",
    "class Stack(Generic[T]):\n",
    "    def __init__(self) -> None:\n",
    "        self._container: List[T] = []\n",
    "    \n",
    "    def push(self, item: T) -> None:\n",
    "        self._container.append(item)\n",
    "    \n",
    "    def pop(self) -> T:\n",
    "        return self._container.pop()\n",
    "    \n",
    "    def __repr__(self) -> str:\n",
    "        return repr(self._container)\n",
    "\n",
    "num_discs: int = 3\n",
    "tower_a: Stack[int] = Stack()\n",
    "tower_b: Stack[int] = Stack()\n",
    "tower_c: Stack[int] = Stack()\n",
    "for i in range(1, num_discs + 1):\n",
    "    tower_a.push(i)"
   ]
  },
  {
   "cell_type": "code",
   "execution_count": 4,
   "metadata": {},
   "outputs": [],
   "source": [
    "def hanoi(begin: Stack[int], end: Stack[int], temp: Stack[int], n: int) -> None:\n",
    "    if n == 1:\n",
    "        end.push(begin.pop())\n",
    "    else:\n",
    "        hanoi(begin, temp, end, n - 1)\n",
    "        hanoi(begin, end, temp, 1)\n",
    "        hanoi(temp, end, begin, n - 1)\n"
   ]
  },
  {
   "cell_type": "code",
   "execution_count": 7,
   "metadata": {},
   "outputs": [],
   "source": [
    "hanoi(tower_a, tower_c, tower_b, num_discs)"
   ]
  },
  {
   "cell_type": "code",
   "execution_count": 10,
   "metadata": {},
   "outputs": [
    {
     "name": "stdout",
     "output_type": "stream",
     "text": [
      "[1, 2, 3]\n"
     ]
    }
   ],
   "source": [
    "print(tower_a)"
   ]
  },
  {
   "cell_type": "code",
   "execution_count": 11,
   "metadata": {},
   "outputs": [
    {
     "name": "stdout",
     "output_type": "stream",
     "text": [
      "[]\n"
     ]
    }
   ],
   "source": [
    "print(tower_b)"
   ]
  },
  {
   "cell_type": "code",
   "execution_count": 12,
   "metadata": {},
   "outputs": [
    {
     "name": "stdout",
     "output_type": "stream",
     "text": [
      "[]\n"
     ]
    }
   ],
   "source": [
    "print(tower_c)"
   ]
  },
  {
   "cell_type": "code",
   "execution_count": 13,
   "metadata": {},
   "outputs": [],
   "source": [
    "hanoi(tower_a, tower_c, tower_b, num_discs)"
   ]
  },
  {
   "cell_type": "code",
   "execution_count": 14,
   "metadata": {},
   "outputs": [
    {
     "name": "stdout",
     "output_type": "stream",
     "text": [
      "[]\n"
     ]
    }
   ],
   "source": [
    "print(tower_a)"
   ]
  },
  {
   "cell_type": "code",
   "execution_count": 15,
   "metadata": {},
   "outputs": [
    {
     "name": "stdout",
     "output_type": "stream",
     "text": [
      "[1, 2, 3]\n"
     ]
    }
   ],
   "source": [
    "print(tower_c)"
   ]
  }
 ],
 "metadata": {
  "kernelspec": {
   "display_name": "Python 3",
   "language": "python",
   "name": "python3"
  },
  "language_info": {
   "codemirror_mode": {
    "name": "ipython",
    "version": 3
   },
   "file_extension": ".py",
   "mimetype": "text/x-python",
   "name": "python",
   "nbconvert_exporter": "python",
   "pygments_lexer": "ipython3",
   "version": "3.8.3"
  }
 },
 "nbformat": 4,
 "nbformat_minor": 4
}
