{
 "cells": [
  {
   "cell_type": "code",
   "execution_count": 24,
   "metadata": {},
   "outputs": [],
   "source": [
    "def quicksort(array, start, end):\n",
    "    if start >= end:\n",
    "        return\n",
    "    else:\n",
    "#         pivotIndex = partition(array, start, end)\n",
    "#         array[start], array[pivotIndex] = array[pivotIndex], array[start]\n",
    "        newPivotIndex = partition(array, start, end)\n",
    "        quicksort(array, start, newPivotIndex - 1)\n",
    "        quicksort(array, newPivotIndex + 1, end)\n",
    "\n",
    "def partition(array, start, end):\n",
    "    pivot = array[start]\n",
    "    i = start + 1\n",
    "    for j in range(start + 1, end + 1):\n",
    "        if(array[j] < pivot):\n",
    "            array[i], array[j] = array[j], array[i]\n",
    "            i += 1\n",
    "    array[start], array[i - 1] = array[i - 1], array[start]\n",
    "    return i - 1\n",
    "\n",
    "\n",
    "def quickSortAlgorithm(array):\n",
    "    quicksort(array, 0, len(array) - 1)"
   ]
  },
  {
   "cell_type": "code",
   "execution_count": 25,
   "metadata": {},
   "outputs": [
    {
     "name": "stdout",
     "output_type": "stream",
     "text": [
      "[1, 2, 3, 5, 6, 22]\n"
     ]
    }
   ],
   "source": [
    "a = [6, 3, 22, 5, 2, 1]\n",
    "b = quickSortAlgorithm(a)\n",
    "print(a)"
   ]
  },
  {
   "cell_type": "code",
   "execution_count": null,
   "metadata": {},
   "outputs": [],
   "source": []
  }
 ],
 "metadata": {
  "kernelspec": {
   "display_name": "Python 3",
   "language": "python",
   "name": "python3"
  },
  "language_info": {
   "codemirror_mode": {
    "name": "ipython",
    "version": 3
   },
   "file_extension": ".py",
   "mimetype": "text/x-python",
   "name": "python",
   "nbconvert_exporter": "python",
   "pygments_lexer": "ipython3",
   "version": "3.8.3"
  }
 },
 "nbformat": 4,
 "nbformat_minor": 4
}
