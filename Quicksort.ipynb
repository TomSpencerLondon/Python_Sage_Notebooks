{
 "cells": [
  {
   "cell_type": "code",
   "execution_count": 24,
   "metadata": {},
   "outputs": [],
   "source": [
    "def quicksort(array, start, end):\n",
    "    if start >= end:\n",
    "        return\n",
    "    else:\n",
    "#         pivotIndex = partition(array, start, end)\n",
    "#         array[start], array[pivotIndex] = array[pivotIndex], array[start]\n",
    "        newPivotIndex = partition(array, start, end)\n",
    "        quicksort(array, start, newPivotIndex - 1)\n",
    "        quicksort(array, newPivotIndex + 1, end)\n",
    "\n",
    "def partition(array, start, end):\n",
    "    pivot = array[start]\n",
    "    i = start + 1\n",
    "    for j in range(start + 1, end + 1):\n",
    "        if(array[j] < pivot):\n",
    "            array[i], array[j] = array[j], array[i]\n",
    "            i += 1\n",
    "    array[start], array[i - 1] = array[i - 1], array[start]\n",
    "    return i - 1\n",
    "\n",
    "\n",
    "def quickSortAlgorithm(array):\n",
    "    quicksort(array, 0, len(array) - 1)"
   ]
  },
  {
   "cell_type": "code",
   "execution_count": 25,
   "metadata": {},
   "outputs": [
    {
     "name": "stdout",
     "output_type": "stream",
     "text": [
      "[1, 2, 3, 5, 6, 22]\n"
     ]
    }
   ],
   "source": [
    "a = [6, 3, 22, 5, 2, 1]\n",
    "b = quickSortAlgorithm(a)\n",
    "print(a)"
   ]
  },
  {
   "cell_type": "code",
   "execution_count": 30,
   "metadata": {},
   "outputs": [],
   "source": [
    "def quick_sort(array, start, end):\n",
    "    stack = []\n",
    "    i = 0\n",
    "    i += 1\n",
    "    stack[i] = start\n",
    "    i += 1\n",
    "    stack[i] = end\n",
    "    while( i > 0):\n",
    "        i -= 1\n",
    "        end = stack[i]\n",
    "        i -= 1\n",
    "        start = stack[i]\n",
    "        \n",
    "        if (start < end):\n",
    "            continue\n",
    "        index = partition(array, start, end)\n",
    "        i += 1\n",
    "        stack[i] = start\n",
    "        i += 1\n",
    "        stack[i]= index - 1\n",
    "        i += 1\n",
    "        stack[i] = index + 1\n",
    "        i += 1\n",
    "        stack[i] = right\n",
    "\n",
    "def partition(array, start, end):\n",
    "    pivot = array[start]\n",
    "    i = start + 1\n",
    "    for j in range(start + 1, end + 1):\n",
    "        if(array[j] < pivot):\n",
    "            array[i], array[j] = array[j], array[i]\n",
    "            i += 1\n",
    "    array[start], array[i - 1] = array[i - 1], array[start]\n",
    "    return i - 1\n",
    "\n"
   ]
  },
  {
   "cell_type": "code",
   "execution_count": 31,
   "metadata": {},
   "outputs": [
    {
     "ename": "IndexError",
     "evalue": "list assignment index out of range",
     "output_type": "error",
     "traceback": [
      "\u001b[0;31m---------------------------------------------------------------------------\u001b[0m",
      "\u001b[0;31mIndexError\u001b[0m                                Traceback (most recent call last)",
      "\u001b[0;32m<ipython-input-31-db31035e205c>\u001b[0m in \u001b[0;36m<module>\u001b[0;34m\u001b[0m\n\u001b[1;32m      1\u001b[0m \u001b[0mr\u001b[0m \u001b[0;34m=\u001b[0m \u001b[0;34m[\u001b[0m\u001b[0;36m6\u001b[0m\u001b[0;34m,\u001b[0m \u001b[0;36m3\u001b[0m\u001b[0;34m,\u001b[0m \u001b[0;36m2\u001b[0m\u001b[0;34m,\u001b[0m \u001b[0;36m4\u001b[0m\u001b[0;34m,\u001b[0m \u001b[0;36m1\u001b[0m\u001b[0;34m,\u001b[0m \u001b[0;36m8\u001b[0m\u001b[0;34m,\u001b[0m \u001b[0;36m1\u001b[0m\u001b[0;34m]\u001b[0m\u001b[0;34m\u001b[0m\u001b[0;34m\u001b[0m\u001b[0m\n\u001b[0;32m----> 2\u001b[0;31m \u001b[0mquick_sort\u001b[0m\u001b[0;34m(\u001b[0m\u001b[0mr\u001b[0m\u001b[0;34m,\u001b[0m \u001b[0;36m0\u001b[0m\u001b[0;34m,\u001b[0m \u001b[0;36m6\u001b[0m\u001b[0;34m)\u001b[0m\u001b[0;34m\u001b[0m\u001b[0;34m\u001b[0m\u001b[0m\n\u001b[0m\u001b[1;32m      3\u001b[0m \u001b[0mprint\u001b[0m\u001b[0;34m(\u001b[0m\u001b[0mr\u001b[0m\u001b[0;34m)\u001b[0m\u001b[0;34m\u001b[0m\u001b[0;34m\u001b[0m\u001b[0m\n",
      "\u001b[0;32m<ipython-input-30-445b2e92ddc3>\u001b[0m in \u001b[0;36mquick_sort\u001b[0;34m(array, start, end)\u001b[0m\n\u001b[1;32m      3\u001b[0m     \u001b[0mi\u001b[0m \u001b[0;34m=\u001b[0m \u001b[0;36m0\u001b[0m\u001b[0;34m\u001b[0m\u001b[0;34m\u001b[0m\u001b[0m\n\u001b[1;32m      4\u001b[0m     \u001b[0mi\u001b[0m \u001b[0;34m+=\u001b[0m \u001b[0;36m1\u001b[0m\u001b[0;34m\u001b[0m\u001b[0;34m\u001b[0m\u001b[0m\n\u001b[0;32m----> 5\u001b[0;31m     \u001b[0mstack\u001b[0m\u001b[0;34m[\u001b[0m\u001b[0mi\u001b[0m\u001b[0;34m]\u001b[0m \u001b[0;34m=\u001b[0m \u001b[0mstart\u001b[0m\u001b[0;34m\u001b[0m\u001b[0;34m\u001b[0m\u001b[0m\n\u001b[0m\u001b[1;32m      6\u001b[0m     \u001b[0mi\u001b[0m \u001b[0;34m+=\u001b[0m \u001b[0;36m1\u001b[0m\u001b[0;34m\u001b[0m\u001b[0;34m\u001b[0m\u001b[0m\n\u001b[1;32m      7\u001b[0m     \u001b[0mstack\u001b[0m\u001b[0;34m[\u001b[0m\u001b[0mi\u001b[0m\u001b[0;34m]\u001b[0m \u001b[0;34m=\u001b[0m \u001b[0mend\u001b[0m\u001b[0;34m\u001b[0m\u001b[0;34m\u001b[0m\u001b[0m\n",
      "\u001b[0;31mIndexError\u001b[0m: list assignment index out of range"
     ]
    }
   ],
   "source": [
    "r = [6, 3, 2, 4, 1, 8, 1]\n",
    "quick_sort(r, 0, 6)\n",
    "print(r)"
   ]
  },
  {
   "cell_type": "code",
   "execution_count": 43,
   "metadata": {},
   "outputs": [],
   "source": [
    "def solve(a,b):\n",
    "    if(a == 0 or b == 0):\n",
    "        return [a, b]\n",
    "    else:\n",
    "        if (a >= 2*b):\n",
    "            return solve(a % (2 * b), b)\n",
    "        elif (b >= 2 * a):\n",
    "            return solve(a, b % (2 * a))\n",
    "    return [a, b]"
   ]
  },
  {
   "cell_type": "code",
   "execution_count": 44,
   "metadata": {},
   "outputs": [
    {
     "name": "stdout",
     "output_type": "stream",
     "text": [
      "[4, 3]\n"
     ]
    }
   ],
   "source": [
    "print(solve(100000000000,3))"
   ]
  }
 ],
 "metadata": {
  "kernelspec": {
   "display_name": "Python 3",
   "language": "python",
   "name": "python3"
  },
  "language_info": {
   "codemirror_mode": {
    "name": "ipython",
    "version": 3
   },
   "file_extension": ".py",
   "mimetype": "text/x-python",
   "name": "python",
   "nbconvert_exporter": "python",
   "pygments_lexer": "ipython3",
   "version": "3.8.3"
  }
 },
 "nbformat": 4,
 "nbformat_minor": 4
}
