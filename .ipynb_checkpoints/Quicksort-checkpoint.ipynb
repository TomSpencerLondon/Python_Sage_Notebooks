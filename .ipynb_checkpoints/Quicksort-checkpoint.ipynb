{
 "cells": [
  {
   "cell_type": "code",
   "execution_count": null,
   "metadata": {},
   "outputs": [],
   "source": [
    "def quicksort(array, start, end):\n",
    "    if len(array) < 1:\n",
    "        return\n",
    "    else:\n",
    "        partition(array, start, end)\n",
    "        quicksort(array, 0, pivotIndex)\n",
    "        quicksort(array, pivotIndex, len(array))\n",
    "\n",
    "def partition(array, start, end):\n",
    "    pivot = array(start)\n",
    "    i = start + 1\n",
    "    for j in range(start + 1, end):\n",
    "        "
   ]
  }
 ],
 "metadata": {
  "kernelspec": {
   "display_name": "Python 3",
   "language": "python",
   "name": "python3"
  },
  "language_info": {
   "codemirror_mode": {
    "name": "ipython",
    "version": 3
   },
   "file_extension": ".py",
   "mimetype": "text/x-python",
   "name": "python",
   "nbconvert_exporter": "python",
   "pygments_lexer": "ipython3",
   "version": "3.8.3"
  }
 },
 "nbformat": 4,
 "nbformat_minor": 4
}
